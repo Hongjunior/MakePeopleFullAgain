{
 "cells": [
  {
   "cell_type": "markdown",
   "metadata": {},
   "source": [
    "# Make People Full Again\n",
    "## Team Members\n",
    "\n",
    "- **Sercan Yesilkoy** (Backend Development - Team Leader)\n",
    "- **Yoonju Cho** (Frontend and Backend Development)\n",
    "- **Seokjun Hong** (Frontend Development)\n",
    "\n",
    "\n",
    "**This Jupyter notebook file is designed to conduct multiple tests to understand how the backend behaves in various scenarios.**\n"
   ]
  },
  {
   "cell_type": "code",
   "execution_count": 29,
   "metadata": {},
   "outputs": [],
   "source": [
    "import sqlite3\n",
    "from datetime import datetime\n",
    "import pandas as pd\n",
    "\n",
    "# Function for Database connection\n",
    "def get_db_connection():\n",
    "    return sqlite3.connect('kiosk.db')\n",
    "\n",
    "# Database setup, tables...\n",
    "def create_tables():\n",
    "    conn = get_db_connection()\n",
    "    cursor = conn.cursor()\n",
    "    cursor.execute('''\n",
    "    CREATE TABLE IF NOT EXISTS users (\n",
    "        id INTEGER PRIMARY KEY,\n",
    "        name TEXT NOT NULL,\n",
    "        age INTEGER NOT NULL,\n",
    "        income INTEGER NOT NULL,\n",
    "        password TEXT NOT NULL\n",
    "    )\n",
    "    ''')\n",
    "\n",
    "    cursor.execute('''\n",
    "    CREATE TABLE IF NOT EXISTS meal_logs (\n",
    "        user_id INTEGER NOT NULL,\n",
    "        menu_type TEXT NOT NULL,\n",
    "        time TEXT NOT NULL,\n",
    "        date TEXT NOT NULL,\n",
    "        FOREIGN KEY(user_id) REFERENCES users(id)\n",
    "    )\n",
    "    ''')\n",
    "\n",
    "    cursor.execute('''\n",
    "    CREATE TABLE IF NOT EXISTS menu_counts (\n",
    "        menu_type TEXT PRIMARY KEY,\n",
    "        remaining_count INTEGER NOT NULL\n",
    "    )\n",
    "    ''')\n",
    "\n",
    "    cursor.execute('''\n",
    "    INSERT OR IGNORE INTO menu_counts (menu_type, remaining_count) VALUES\n",
    "    ('low_income_middle_age_menu', 50),\n",
    "    ('low_income_high_age_menu', 50),\n",
    "    ('middle_income_low_age_menu', 50),\n",
    "    ('middle_income_high_age_menu', 50)\n",
    "    ''')\n",
    "\n",
    "    conn.commit()\n",
    "    conn.close()\n",
    "\n",
    "def insert_user(id, name, age, income, password):\n",
    "    conn = get_db_connection()\n",
    "    cursor = conn.cursor()\n",
    "    cursor.execute('INSERT INTO users (id, name, age, income, password) VALUES (?, ?, ?, ?, ?)',\n",
    "                   (id, name, age, income, password))\n",
    "    conn.commit()\n",
    "    conn.close()\n",
    "\n",
    "def authenticate_user(id, password):\n",
    "    conn = get_db_connection()\n",
    "    cursor = conn.cursor()\n",
    "    cursor.execute('SELECT * FROM users WHERE id = ? AND password = ?', (id, password))\n",
    "    user = cursor.fetchone()\n",
    "    conn.close()\n",
    "    return user\n",
    "\n",
    "def log_meal(user_id, menu_type):\n",
    "    conn = get_db_connection()\n",
    "    cursor = conn.cursor()\n",
    "    now = datetime.now()\n",
    "    time = now.strftime(\"%H:%M:%S\")\n",
    "    date = now.strftime(\"%Y-%m-%d\")\n",
    "    cursor.execute('INSERT INTO meal_logs (user_id, menu_type, time, date) VALUES (?, ?, ?, ?)',\n",
    "                   (user_id, menu_type, time, date))\n",
    "    cursor.execute('UPDATE menu_counts SET remaining_count = remaining_count - 1 WHERE menu_type = ?',\n",
    "                   (menu_type,))\n",
    "    conn.commit()\n",
    "    conn.close()\n",
    "\n",
    "def has_eaten_today(user_id):\n",
    "    conn = get_db_connection()\n",
    "    cursor = conn.cursor()\n",
    "    today = datetime.now().strftime(\"%Y-%m-%d\")\n",
    "    cursor.execute('SELECT * FROM meal_logs WHERE user_id = ? AND date = ?', (user_id, today))\n",
    "    meal_log = cursor.fetchone()\n",
    "    conn.close()\n",
    "    return meal_log is not None\n",
    "\n",
    "def get_meal_count(menu_type):\n",
    "    conn = get_db_connection()\n",
    "    cursor = conn.cursor()\n",
    "    cursor.execute('SELECT remaining_count FROM menu_counts WHERE menu_type = ?', (menu_type,))\n",
    "    count = cursor.fetchone()[0]\n",
    "    conn.close()\n",
    "    return count\n",
    "\n",
    "def get_user_details(user_id):\n",
    "    conn = get_db_connection()\n",
    "    cursor = conn.cursor()\n",
    "    cursor.execute('SELECT * FROM users WHERE id = ?', (user_id,))\n",
    "    user = cursor.fetchone()\n",
    "    conn.close()\n",
    "    return user\n",
    "\n",
    "def list_tables_and_columns():\n",
    "    conn = get_db_connection()\n",
    "    cursor = conn.cursor()\n",
    "    \n",
    "    # Query to list all tables #! just for check the Database\n",
    "    cursor.execute(\"SELECT name FROM sqlite_master WHERE type='table';\")\n",
    "    tables = cursor.fetchall()\n",
    "\n",
    "    tables_and_columns = {}\n",
    "    for table in tables:\n",
    "        table_name = table[0]\n",
    "        cursor.execute(f\"PRAGMA table_info({table_name})\")\n",
    "        columns = cursor.fetchall()\n",
    "        tables_and_columns[table_name] = columns\n",
    "    \n",
    "    conn.close()\n",
    "    return tables_and_columns\n",
    "\n",
    "def print_tables_and_columns(tables_and_columns):\n",
    "    for table_name, columns in tables_and_columns.items():\n",
    "        print(f\"Table: {table_name}\")\n",
    "        for column in columns:\n",
    "            print(f\"  Column: {column[1]}, Type: {column[2]}, Nullable: {column[3]}, Default: {column[4]}, PK: {column[5]}\")\n",
    "        print()\n",
    "\n",
    "def view_table(table_name):\n",
    "    conn = get_db_connection()\n",
    "    query = f\"SELECT * FROM {table_name}\"\n",
    "    df = pd.read_sql_query(query, conn)\n",
    "    conn.close()\n",
    "    return df\n",
    "\n",
    "def clean_users_table():\n",
    "    \"\"\"Delete all records from the users table in the kiosk database.\"\"\"\n",
    "    with sqlite3.connect('kiosk.db') as conn:\n",
    "        cursor = conn.cursor()\n",
    "        cursor.execute('DELETE FROM users')\n",
    "        conn.commit()\n",
    "        print(\"All records from the users table have been deleted.\")\n",
    "\n",
    "# AdminSettings (Monostate Singleton pattern)\n",
    "class AdminSettings:\n",
    "    _shared_state = {}\n",
    "\n",
    "    def __init__(self):\n",
    "        self.__dict__ = self._shared_state\n",
    "        if not self._shared_state:\n",
    "            self.configure()\n",
    "\n",
    "    def configure(self, **kwargs):\n",
    "        self._shared_state.update(kwargs)\n",
    "\n",
    "    def get_config(self):\n",
    "        return self._shared_state\n",
    "\n",
    "    def reset_day(self):\n",
    "        conn = get_db_connection()\n",
    "        cursor = conn.cursor()\n",
    "        cursor.execute('DELETE FROM meal_logs')\n",
    "        cursor.execute('UPDATE menu_counts SET remaining_count = 50')\n",
    "        conn.commit()\n",
    "        conn.close()\n",
    "        print(\"Day reset completed. All records cleared and meal counts reset.\")\n",
    "\n",
    "# Chain of Responsibility Pattern\n",
    "class EligibilityHandler:\n",
    "    def __init__(self):\n",
    "        self._next_handler = None\n",
    "\n",
    "    def set_next(self, handler):\n",
    "        self._next_handler = handler\n",
    "        return handler\n",
    "\n",
    "    def check(self, request):\n",
    "        if self._next_handler:\n",
    "            return self._next_handler.check(request)\n",
    "        return True\n",
    "\n",
    "\n",
    "class AccountEligibilityHandler(EligibilityHandler):\n",
    "    def check(self, request):\n",
    "        print(\"AccountEligibilityHandler: Checking account eligibility.\")\n",
    "        return super().check(request)\n",
    "\n",
    "\n",
    "class AgeEligibilityHandler(EligibilityHandler):\n",
    "    def check(self, request):\n",
    "        if request['age'] < 18:\n",
    "            return f\"User {request['name']} is not eligible based on age\"\n",
    "        print(\"AgeEligibilityHandler: Age check passed.\")\n",
    "        return super().check(request)\n",
    "\n",
    "\n",
    "class IncomeEligibilityHandler(EligibilityHandler):\n",
    "    def check(self, request):\n",
    "        if request['income'] > 20000:\n",
    "            return f\"User {request['name']} is not eligible based on income\"\n",
    "        print(\"IncomeEligibilityHandler: Income check passed.\")\n",
    "        return super().check(request)\n",
    "\n",
    "\n",
    "class IsThisPersonExistHandler(EligibilityHandler):\n",
    "    def check(self, request):\n",
    "        conn = get_db_connection()\n",
    "        cursor = conn.cursor()\n",
    "        cursor.execute('SELECT * FROM users WHERE id = ?', (request['id'],))\n",
    "        user = cursor.fetchone()\n",
    "        conn.close()\n",
    "        if user:\n",
    "            return f\"User {request['name']} already exists\"\n",
    "        print(\"IsThisPersonExistHandler: Person does not exist in records.\")\n",
    "        return super().check(request)\n",
    "\n",
    "\n",
    "class LoginEligibilityHandler(EligibilityHandler):\n",
    "    def check(self, request):\n",
    "        user = authenticate_user(request['id'], request['password'])\n",
    "        if not user:\n",
    "            return \"Invalid ID or password\"\n",
    "        print(\"LoginEligibilityHandler: Login check passed.\")\n",
    "        return super().check(request)\n",
    "\n",
    "\n",
    "class AlreadyAteHandler(EligibilityHandler):\n",
    "    def check(self, request):\n",
    "        if has_eaten_today(request['id']):\n",
    "            return f\"User {request['name']} has already received a meal today\"\n",
    "        print(\"AlreadyAteHandler: Check passed, user has not eaten today.\")\n",
    "        return super().check(request)\n",
    "\n",
    "\n",
    "class CapacityHandler(EligibilityHandler):\n",
    "    def __init__(self, menu_type):\n",
    "        super().__init__()\n",
    "        self.menu_type = menu_type\n",
    "\n",
    "    def check(self, request):\n",
    "        meal_count = get_meal_count(self.menu_type)\n",
    "        if meal_count <= 0:\n",
    "            return f\"Meal capacity for {self.menu_type.replace('_', ' ')} has been reached\"\n",
    "        print(\"CapacityHandler: Capacity check passed.\")\n",
    "        return super().check(request)\n",
    "\n",
    "\n",
    "# Strategy Pattern\n",
    "class MenuStrategy:\n",
    "    def get_menu(self):\n",
    "        raise NotImplementedError\n",
    "\n",
    "\n",
    "class LowIncomeMiddleAgeStrategy(MenuStrategy):\n",
    "    def get_menu(self):\n",
    "        return \"low_income_middle_age_menu\"\n",
    "\n",
    "\n",
    "class LowIncomeHighAgeStrategy(MenuStrategy):\n",
    "    def get_menu(self):\n",
    "        return \"low_income_high_age_menu\"\n",
    "\n",
    "\n",
    "class MiddleIncomeLowAgeStrategy(MenuStrategy):\n",
    "    def get_menu(self):\n",
    "        return \"middle_income_low_age_menu\"\n",
    "\n",
    "\n",
    "class MiddleIncomeHighAgeStrategy(MenuStrategy):\n",
    "    def get_menu(self):\n",
    "        return \"middle_income_high_age_menu\"\n",
    "\n",
    "\n",
    "# Menu Factory for creating the appropriate strategy #! not sure would be edit to use factory pattern\n",
    "class MenuFactory:\n",
    "    def get_menu_strategy(self, user):\n",
    "        if user['income'] < 20000 and 18 <= user['age'] <= 45:\n",
    "            return LowIncomeMiddleAgeStrategy()\n",
    "        elif user['income'] < 20000 and user['age'] > 45:\n",
    "            return LowIncomeHighAgeStrategy()\n",
    "        elif user['income'] >= 20000 and user['age'] <= 45:\n",
    "            return MiddleIncomeLowAgeStrategy()\n",
    "        else:\n",
    "            return MiddleIncomeHighAgeStrategy()\n",
    "\n",
    "\n",
    "# Facade pattern\n",
    "class KioskFacade:\n",
    "    def __init__(self):\n",
    "        self.admin_settings = AdminSettings()\n",
    "        self.menu_factory = MenuFactory()\n",
    "        self.create_account_chain()\n",
    "\n",
    "    def create_account_chain(self):\n",
    "        self.account_eligibility_handler = AccountEligibilityHandler()\n",
    "        self.age_handler = self.account_eligibility_handler.set_next(AgeEligibilityHandler())\n",
    "        self.income_handler = self.age_handler.set_next(IncomeEligibilityHandler())\n",
    "        self.is_this_person_exist_handler = self.income_handler.set_next(IsThisPersonExistHandler())\n",
    "\n",
    "    def login_chain(self, user):\n",
    "        self.login_eligibility_handler = LoginEligibilityHandler()\n",
    "        self.already_ate_handler = self.login_eligibility_handler.set_next(AlreadyAteHandler())\n",
    "        menu_strategy = self.assign_menu(user)\n",
    "        self.capacity_handler = self.already_ate_handler.set_next(CapacityHandler(menu_strategy.get_menu()))\n",
    "\n",
    "    def start(self):\n",
    "        self.admin_settings.configure()\n",
    "        print(\"Starting kiosk...\")\n",
    "\n",
    "    def check_eligibility(self, user, action):\n",
    "        if action == \"create_account\":\n",
    "            result = self.account_eligibility_handler.check(user)\n",
    "        elif action == \"login\":\n",
    "            full_user = get_user_details(user['id'])\n",
    "            if full_user:\n",
    "                user.update({\n",
    "                    'age': full_user[2],\n",
    "                    'income': full_user[3],\n",
    "                })\n",
    "                self.login_chain(user)\n",
    "                result = self.login_eligibility_handler.check(user)\n",
    "            else:\n",
    "                result = \"User not found\"\n",
    "        else:\n",
    "            result is True  # Assume admin login or other actions are always allowed for simplicity\n",
    "        if result is True:\n",
    "            return True\n",
    "        else:\n",
    "            print(result)\n",
    "            return False\n",
    "\n",
    "    def create_account(self, user):\n",
    "        if self.check_eligibility(user, \"create_account\"):\n",
    "            insert_user(user['id'], user['name'], user['age'], user['income'], user['password'])\n",
    "            print(f\"User {user['name']} has been successfully registered.\")\n",
    "        else:\n",
    "            print(f\"User {user['name']} could not be registered.\")\n",
    "\n",
    "    def login(self, user):\n",
    "        if self.check_eligibility(user, \"login\"):\n",
    "            full_user = get_user_details(user['id'])\n",
    "            if full_user:\n",
    "                user.update({\n",
    "                    'age': full_user[2],\n",
    "                    'income': full_user[3],\n",
    "                })\n",
    "                menu_strategy = self.assign_menu(user)\n",
    "                self.record_meal(user, menu_strategy)\n",
    "                print(f\"User {user['name']} has logged in and received a meal.\")\n",
    "            else:\n",
    "                print(f\"User {user['name']} not found in the database.\")\n",
    "        else:\n",
    "            print(f\"User {user['name']} could not log in.\")\n",
    "\n",
    "    def record_meal(self, user, menu_strategy):\n",
    "        log_meal(user['id'], menu_strategy.get_menu())\n",
    "        print(f\"Recorded meal for user {user['name']}: {menu_strategy.get_menu()}\")\n",
    "\n",
    "    def finish_meal(self, user):\n",
    "        print(f\"User {user['name']} has finished their meal\")\n",
    "\n",
    "    def get_menu_description(self, menu_item):\n",
    "        return menu_item.get_description()\n",
    "\n",
    "    def assign_menu(self, user):\n",
    "        return self.menu_factory.get_menu_strategy(user)\n",
    "\n",
    "\n",
    "# MenuItem #! may change/delete\n",
    "class MenuItem:\n",
    "    def __init__(self, description):\n",
    "        self.description = description\n",
    "\n",
    "    def get_description(self):\n",
    "        return self.description\n"
   ]
  },
  {
   "cell_type": "code",
   "execution_count": 41,
   "metadata": {},
   "outputs": [
    {
     "name": "stdout",
     "output_type": "stream",
     "text": [
      "Table: users\n",
      "  Column: id, Type: INTEGER, Nullable: 0, Default: None, PK: 1\n",
      "  Column: name, Type: TEXT, Nullable: 1, Default: None, PK: 0\n",
      "  Column: age, Type: INTEGER, Nullable: 1, Default: None, PK: 0\n",
      "  Column: income, Type: INTEGER, Nullable: 1, Default: None, PK: 0\n",
      "  Column: password, Type: TEXT, Nullable: 1, Default: None, PK: 0\n",
      "\n",
      "Table: meal_logs\n",
      "  Column: user_id, Type: INTEGER, Nullable: 1, Default: None, PK: 0\n",
      "  Column: menu_type, Type: TEXT, Nullable: 1, Default: None, PK: 0\n",
      "  Column: time, Type: TEXT, Nullable: 1, Default: None, PK: 0\n",
      "  Column: date, Type: TEXT, Nullable: 1, Default: None, PK: 0\n",
      "\n",
      "Table: menu_counts\n",
      "  Column: menu_type, Type: TEXT, Nullable: 0, Default: None, PK: 1\n",
      "  Column: remaining_count, Type: INTEGER, Nullable: 1, Default: None, PK: 0\n",
      "\n"
     ]
    }
   ],
   "source": [
    "#Context of Tables on SQLite \n",
    "tables_and_columns = list_tables_and_columns()\n",
    "print_tables_and_columns(tables_and_columns)"
   ]
  },
  {
   "cell_type": "code",
   "execution_count": 43,
   "metadata": {},
   "outputs": [
    {
     "name": "stdout",
     "output_type": "stream",
     "text": [
      "Users Table:\n",
      "Empty DataFrame\n",
      "Columns: [id, name, age, income, password]\n",
      "Index: []\n",
      "\n",
      "Meal Logs Table:\n",
      "Empty DataFrame\n",
      "Columns: [user_id, menu_type, time, date]\n",
      "Index: []\n",
      "\n",
      "Menu Counts Table:\n",
      "                  menu_type  remaining_count\n",
      " low_income_middle_age_menu               50\n",
      "   low_income_high_age_menu               50\n",
      " middle_income_low_age_menu               50\n",
      "middle_income_high_age_menu               50\n"
     ]
    }
   ],
   "source": [
    "#The initial state of the tables\n",
    "print(\"Users Table:\")\n",
    "users_df = view_table('users')\n",
    "print(users_df.to_string(index=False))\n",
    "\n",
    "print(\"\\nMeal Logs Table:\")\n",
    "meal_logs_df = view_table('meal_logs')\n",
    "print(meal_logs_df.to_string(index=False))\n",
    "\n",
    "print(\"\\nMenu Counts Table:\")\n",
    "menu_counts_df = view_table('menu_counts')\n",
    "print(menu_counts_df.to_string(index=False))"
   ]
  },
  {
   "cell_type": "code",
   "execution_count": 44,
   "metadata": {},
   "outputs": [
    {
     "name": "stdout",
     "output_type": "stream",
     "text": [
      "Starting kiosk...\n"
     ]
    }
   ],
   "source": [
    "if __name__ == \"__main__\":\n",
    "    # Create database and tables\n",
    "    create_tables()\n",
    "\n",
    "    # Configure admin settings\n",
    "    admin_settings = AdminSettings()\n",
    "    admin_settings.configure(opening_hours=\"9 AM - 5 PM\")\n",
    "\n",
    "    # Start kiosk\n",
    "    kiosk = KioskFacade()\n",
    "    kiosk.start()"
   ]
  },
  {
   "cell_type": "code",
   "execution_count": 45,
   "metadata": {},
   "outputs": [
    {
     "name": "stdout",
     "output_type": "stream",
     "text": [
      "AccountEligibilityHandler: Checking account eligibility.\n",
      "AgeEligibilityHandler: Age check passed.\n",
      "IncomeEligibilityHandler: Income check passed.\n",
      "IsThisPersonExistHandler: Person does not exist in records.\n",
      "User   Doe has been successfully registered.\n"
     ]
    }
   ],
   "source": [
    "user1 = {\n",
    "    'id': 1,\n",
    "    'name': '  Doe',\n",
    "    'age': 25,\n",
    "    'income': 15000,\n",
    "    'password': 'password123'\n",
    "}\n",
    "kiosk.create_account(user1)\n",
    "\n"
   ]
  },
  {
   "cell_type": "code",
   "execution_count": 46,
   "metadata": {},
   "outputs": [
    {
     "name": "stdout",
     "output_type": "stream",
     "text": [
      "AccountEligibilityHandler: Checking account eligibility.\n",
      "AgeEligibilityHandler: Age check passed.\n",
      "IncomeEligibilityHandler: Income check passed.\n",
      "IsThisPersonExistHandler: Person does not exist in records.\n",
      "User Jane Smith has been successfully registered.\n"
     ]
    }
   ],
   "source": [
    "# Create account for user2\n",
    "user2 = {\n",
    "    'id': 2,\n",
    "    'name': 'Jane Smith',\n",
    "    'age': 19,\n",
    "    'income': 10000,\n",
    "    'password': 'password123'\n",
    "}\n",
    "kiosk.create_account(user2)\n",
    "\n"
   ]
  },
  {
   "cell_type": "code",
   "execution_count": 47,
   "metadata": {},
   "outputs": [
    {
     "name": "stdout",
     "output_type": "stream",
     "text": [
      "AccountEligibilityHandler: Checking account eligibility.\n",
      "AgeEligibilityHandler: Age check passed.\n",
      "IncomeEligibilityHandler: Income check passed.\n",
      "IsThisPersonExistHandler: Person does not exist in records.\n",
      "User Alice Johnson has been successfully registered.\n"
     ]
    }
   ],
   "source": [
    "# Create account for user3\n",
    "user3 = {\n",
    "    'id': 3,\n",
    "    'name': 'Alice Johnson',\n",
    "    'age': 30,\n",
    "    'income': 18000,\n",
    "    'password': 'password123'\n",
    "}\n",
    "kiosk.create_account(user3)"
   ]
  },
  {
   "cell_type": "code",
   "execution_count": 48,
   "metadata": {},
   "outputs": [
    {
     "name": "stdout",
     "output_type": "stream",
     "text": [
      "AccountEligibilityHandler: Checking account eligibility.\n",
      "AgeEligibilityHandler: Age check passed.\n",
      "IncomeEligibilityHandler: Income check passed.\n",
      "User Sercan Yesilkoy already exists\n",
      "User Sercan Yesilkoy could not be registered.\n"
     ]
    }
   ],
   "source": [
    "# Create account for user3 (should be denied due to duplicate ID)\n",
    "user3 = {\n",
    "    'id': 3,\n",
    "    'name': 'Sercan Yesilkoy',\n",
    "    'age': 30,\n",
    "    'income': 18000,\n",
    "    'password': 'password123'\n",
    "}\n",
    "kiosk.create_account(user3)"
   ]
  },
  {
   "cell_type": "code",
   "execution_count": 49,
   "metadata": {},
   "outputs": [
    {
     "name": "stdout",
     "output_type": "stream",
     "text": [
      "LoginEligibilityHandler: Login check passed.\n",
      "AlreadyAteHandler: Check passed, user has not eaten today.\n",
      "CapacityHandler: Capacity check passed.\n",
      "Recorded meal for user John Doe: low_income_middle_age_menu\n",
      "User John Doe has logged in and received a meal.\n"
     ]
    }
   ],
   "source": [
    "# Login user1\n",
    "login_user1 = {\n",
    "    'id': 1,\n",
    "    'name': 'John Doe',\n",
    "    'password': 'password123'\n",
    "}\n",
    "kiosk.login(login_user1)"
   ]
  },
  {
   "cell_type": "code",
   "execution_count": 50,
   "metadata": {},
   "outputs": [
    {
     "name": "stdout",
     "output_type": "stream",
     "text": [
      "\n",
      "Meal Logs Table:\n",
      " user_id                  menu_type     time       date\n",
      "       1 low_income_middle_age_menu 22:17:32 2024-05-26\n",
      "\n",
      "Menu Counts Table:\n",
      "                  menu_type  remaining_count\n",
      " low_income_middle_age_menu               49\n",
      "   low_income_high_age_menu               50\n",
      " middle_income_low_age_menu               50\n",
      "middle_income_high_age_menu               50\n"
     ]
    }
   ],
   "source": [
    "print(\"\\nMeal Logs Table:\")\n",
    "meal_logs_df = view_table('meal_logs')\n",
    "print(meal_logs_df.to_string(index=False))\n",
    "\n",
    "print(\"\\nMenu Counts Table:\")\n",
    "menu_counts_df = view_table('menu_counts')\n",
    "print(menu_counts_df.to_string(index=False))"
   ]
  },
  {
   "cell_type": "code",
   "execution_count": 51,
   "metadata": {},
   "outputs": [
    {
     "name": "stdout",
     "output_type": "stream",
     "text": [
      "LoginEligibilityHandler: Login check passed.\n",
      "AlreadyAteHandler: Check passed, user has not eaten today.\n",
      "CapacityHandler: Capacity check passed.\n",
      "Recorded meal for user Jane Smith: low_income_middle_age_menu\n",
      "User Jane Smith has logged in and received a meal.\n"
     ]
    }
   ],
   "source": [
    "# Login user2\n",
    "login_user2 = {\n",
    "    'id': 2,\n",
    "    'name': 'Jane Smith',\n",
    "    'password': 'password123'\n",
    "}\n",
    "kiosk.login(login_user2)"
   ]
  },
  {
   "cell_type": "code",
   "execution_count": 52,
   "metadata": {},
   "outputs": [
    {
     "name": "stdout",
     "output_type": "stream",
     "text": [
      "\n",
      "Meal Logs Table:\n",
      " user_id                  menu_type     time       date\n",
      "       1 low_income_middle_age_menu 22:17:32 2024-05-26\n",
      "       2 low_income_middle_age_menu 22:18:15 2024-05-26\n",
      "\n",
      "Menu Counts Table:\n",
      "                  menu_type  remaining_count\n",
      " low_income_middle_age_menu               48\n",
      "   low_income_high_age_menu               50\n",
      " middle_income_low_age_menu               50\n",
      "middle_income_high_age_menu               50\n"
     ]
    }
   ],
   "source": [
    "print(\"\\nMeal Logs Table:\")\n",
    "meal_logs_df = view_table('meal_logs')\n",
    "print(meal_logs_df.to_string(index=False))\n",
    "\n",
    "print(\"\\nMenu Counts Table:\")\n",
    "menu_counts_df = view_table('menu_counts')\n",
    "print(menu_counts_df.to_string(index=False))"
   ]
  },
  {
   "cell_type": "code",
   "execution_count": 53,
   "metadata": {},
   "outputs": [
    {
     "name": "stdout",
     "output_type": "stream",
     "text": [
      "LoginEligibilityHandler: Login check passed.\n",
      "User John Doe has already received a meal today\n",
      "User John Doe could not log in.\n"
     ]
    }
   ],
   "source": [
    "kiosk.login(login_user1)\n"
   ]
  },
  {
   "cell_type": "code",
   "execution_count": 54,
   "metadata": {},
   "outputs": [
    {
     "name": "stdout",
     "output_type": "stream",
     "text": [
      "\n",
      "Meal Logs Table:\n",
      " user_id                  menu_type     time       date\n",
      "       1 low_income_middle_age_menu 22:17:32 2024-05-26\n",
      "       2 low_income_middle_age_menu 22:18:15 2024-05-26\n",
      "\n",
      "Menu Counts Table:\n",
      "                  menu_type  remaining_count\n",
      " low_income_middle_age_menu               48\n",
      "   low_income_high_age_menu               50\n",
      " middle_income_low_age_menu               50\n",
      "middle_income_high_age_menu               50\n"
     ]
    }
   ],
   "source": [
    "print(\"\\nMeal Logs Table:\")\n",
    "meal_logs_df = view_table('meal_logs')\n",
    "print(meal_logs_df.to_string(index=False))\n",
    "\n",
    "print(\"\\nMenu Counts Table:\")\n",
    "menu_counts_df = view_table('menu_counts')\n",
    "print(menu_counts_df.to_string(index=False))"
   ]
  },
  {
   "cell_type": "code",
   "execution_count": 55,
   "metadata": {},
   "outputs": [
    {
     "name": "stdout",
     "output_type": "stream",
     "text": [
      "LoginEligibilityHandler: Login check passed.\n",
      "AlreadyAteHandler: Check passed, user has not eaten today.\n",
      "CapacityHandler: Capacity check passed.\n",
      "Recorded meal for user Alice Johnson: low_income_middle_age_menu\n",
      "User Alice Johnson has logged in and received a meal.\n"
     ]
    }
   ],
   "source": [
    "# Create account for user3\n",
    "login_user3 = {\n",
    "    'id': 3,\n",
    "    'name': 'Alice Johnson',\n",
    "    'password': 'password123'\n",
    "}\n",
    "kiosk.login(login_user3)"
   ]
  },
  {
   "cell_type": "code",
   "execution_count": 56,
   "metadata": {},
   "outputs": [
    {
     "name": "stdout",
     "output_type": "stream",
     "text": [
      "\n",
      "Meal Logs Table:\n",
      " user_id                  menu_type     time       date\n",
      "       1 low_income_middle_age_menu 22:17:32 2024-05-26\n",
      "       2 low_income_middle_age_menu 22:18:15 2024-05-26\n",
      "       3 low_income_middle_age_menu 22:20:15 2024-05-26\n",
      "\n",
      "Menu Counts Table:\n",
      "                  menu_type  remaining_count\n",
      " low_income_middle_age_menu               47\n",
      "   low_income_high_age_menu               50\n",
      " middle_income_low_age_menu               50\n",
      "middle_income_high_age_menu               50\n"
     ]
    }
   ],
   "source": [
    "print(\"\\nMeal Logs Table:\")\n",
    "meal_logs_df = view_table('meal_logs')\n",
    "print(meal_logs_df.to_string(index=False))\n",
    "\n",
    "print(\"\\nMenu Counts Table:\")\n",
    "menu_counts_df = view_table('menu_counts')\n",
    "print(menu_counts_df.to_string(index=False))"
   ]
  },
  {
   "cell_type": "code",
   "execution_count": 57,
   "metadata": {},
   "outputs": [
    {
     "name": "stdout",
     "output_type": "stream",
     "text": [
      "Day reset completed. All records cleared and meal counts reset.\n"
     ]
    }
   ],
   "source": [
    "admin_settings.reset_day() #! only reset the logs and counts of menus "
   ]
  },
  {
   "cell_type": "code",
   "execution_count": 58,
   "metadata": {},
   "outputs": [
    {
     "name": "stdout",
     "output_type": "stream",
     "text": [
      "Users Table:\n",
      " id          name  age  income    password\n",
      "  1           Doe   25   15000 password123\n",
      "  2    Jane Smith   19   10000 password123\n",
      "  3 Alice Johnson   30   18000 password123\n",
      "\n",
      "Meal Logs Table:\n",
      "Empty DataFrame\n",
      "Columns: [user_id, menu_type, time, date]\n",
      "Index: []\n",
      "\n",
      "Menu Counts Table:\n",
      "                  menu_type  remaining_count\n",
      " low_income_middle_age_menu               50\n",
      "   low_income_high_age_menu               50\n",
      " middle_income_low_age_menu               50\n",
      "middle_income_high_age_menu               50\n"
     ]
    }
   ],
   "source": [
    "print(\"Users Table:\")\n",
    "users_df = view_table('users')\n",
    "print(users_df.to_string(index=False))\n",
    "\n",
    "print(\"\\nMeal Logs Table:\")\n",
    "meal_logs_df = view_table('meal_logs')\n",
    "print(meal_logs_df.to_string(index=False))\n",
    "\n",
    "print(\"\\nMenu Counts Table:\")\n",
    "menu_counts_df = view_table('menu_counts')\n",
    "print(menu_counts_df.to_string(index=False))"
   ]
  },
  {
   "cell_type": "code",
   "execution_count": 59,
   "metadata": {},
   "outputs": [
    {
     "name": "stdout",
     "output_type": "stream",
     "text": [
      "All records from the users table have been deleted.\n"
     ]
    }
   ],
   "source": [
    "clean_users_table() #! use only when you want to delete user table"
   ]
  },
  {
   "cell_type": "code",
   "execution_count": 60,
   "metadata": {},
   "outputs": [
    {
     "name": "stdout",
     "output_type": "stream",
     "text": [
      "Users Table:\n",
      "Empty DataFrame\n",
      "Columns: [id, name, age, income, password]\n",
      "Index: []\n",
      "\n",
      "Meal Logs Table:\n",
      "Empty DataFrame\n",
      "Columns: [user_id, menu_type, time, date]\n",
      "Index: []\n",
      "\n",
      "Menu Counts Table:\n",
      "                  menu_type  remaining_count\n",
      " low_income_middle_age_menu               50\n",
      "   low_income_high_age_menu               50\n",
      " middle_income_low_age_menu               50\n",
      "middle_income_high_age_menu               50\n"
     ]
    }
   ],
   "source": [
    "#The initial state of the tables\n",
    "print(\"Users Table:\")\n",
    "users_df = view_table('users')\n",
    "print(users_df.to_string(index=False))\n",
    "\n",
    "print(\"\\nMeal Logs Table:\")\n",
    "meal_logs_df = view_table('meal_logs')\n",
    "print(meal_logs_df.to_string(index=False))\n",
    "\n",
    "print(\"\\nMenu Counts Table:\")\n",
    "menu_counts_df = view_table('menu_counts')\n",
    "print(menu_counts_df.to_string(index=False))"
   ]
  }
 ],
 "metadata": {
  "kernelspec": {
   "display_name": "Python 3",
   "language": "python",
   "name": "python3"
  },
  "language_info": {
   "codemirror_mode": {
    "name": "ipython",
    "version": 3
   },
   "file_extension": ".py",
   "mimetype": "text/x-python",
   "name": "python",
   "nbconvert_exporter": "python",
   "pygments_lexer": "ipython3",
   "version": "3.10.9"
  }
 },
 "nbformat": 4,
 "nbformat_minor": 2
}
